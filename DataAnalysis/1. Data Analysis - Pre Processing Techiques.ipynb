{
  "nbformat": 4,
  "nbformat_minor": 0,
  "metadata": {
    "colab": {
      "provenance": [],
      "gpuType": "T4"
    },
    "kernelspec": {
      "name": "python3",
      "display_name": "Python 3"
    },
    "language_info": {
      "name": "python"
    },
    "accelerator": "GPU"
  },
  "cells": [
    {
      "cell_type": "markdown",
      "source": [
        "# Inconsistent Data Entry 5"
      ],
      "metadata": {
        "id": "8J4c1Wuq1bPx"
      }
    },
    {
      "cell_type": "markdown",
      "source": [
        "## Hemant Thapa"
      ],
      "metadata": {
        "id": "JcznGTGS2ooJ"
      }
    },
    {
      "cell_type": "markdown",
      "source": [
        "1. Import Libraries"
      ],
      "metadata": {
        "id": "0cMi3VKO81Ps"
      }
    },
    {
      "cell_type": "code",
      "source": [
        "import numpy as np\n",
        "import pandas as pd\n",
        "import matplotlib.pyplot as plt\n",
        "import seaborn as sns"
      ],
      "metadata": {
        "id": "tl5MknU59Poy"
      },
      "execution_count": 66,
      "outputs": []
    },
    {
      "cell_type": "markdown",
      "source": [
        "2. Loading dataset"
      ],
      "metadata": {
        "id": "5bbJeupz9ADH"
      }
    },
    {
      "cell_type": "code",
      "source": [
        "df = pd.read_csv('Pakistan.csv', encoding='unicode_escape')\n",
        "df.shape"
      ],
      "metadata": {
        "id": "zGmKqWMi8NL9",
        "colab": {
          "base_uri": "https://localhost:8080/"
        },
        "outputId": "61364adc-f414-4ef7-e386-ced8e38c9a33"
      },
      "execution_count": 67,
      "outputs": [
        {
          "output_type": "execute_result",
          "data": {
            "text/plain": [
              "(496, 26)"
            ]
          },
          "metadata": {},
          "execution_count": 67
        }
      ]
    },
    {
      "cell_type": "code",
      "source": [
        "# loading top 5 rows\n",
        "df.head()"
      ],
      "metadata": {
        "id": "5yBcIHcp8NOZ",
        "colab": {
          "base_uri": "https://localhost:8080/",
          "height": 444
        },
        "outputId": "5d3b28eb-7fcc-4920-dcb5-cb46fd6be995"
      },
      "execution_count": 68,
      "outputs": [
        {
          "output_type": "execute_result",
          "data": {
            "text/plain": [
              "   S#              Date                   Islamic Date Blast Day Type  \\\n",
              "0   1  November 19-1995  25 Jumaada al-THaany 1416 A.H        Holiday   \n",
              "1   2   November 6-2000           10 SHa`baan 1421 A.H    Working Day   \n",
              "2   3        May 8-2002              25 safar 1423 A.H    Working Day   \n",
              "3   4      June 14-2002     3 Raby` al-THaany 1423 A.H    Working Day   \n",
              "4   5       July 4-2003     4 Jumaada al-awal 1424 A.H    Working Day   \n",
              "\n",
              "  Holiday Type         Time       City  Latitude Longitude     Province  ...  \\\n",
              "0      Weekend          NaN  Islamabad   33.7180   73.0718      Capital  ...   \n",
              "1          NaN          NaN    Karachi   24.9918   66.9911        Sindh  ...   \n",
              "2          NaN      7:45 AM   Karachi    24.9918   66.9911        Sindh  ...   \n",
              "3          NaN  11:10:00 AM    Karachi   24.9918   66.9911        Sindh  ...   \n",
              "4          NaN          NaN     Quetta   30.2095   67.0182  Baluchistan  ...   \n",
              "\n",
              "  Targeted Sect if any Killed Min Killed Max Injured Min Injured Max  \\\n",
              "0                  NaN       14.0       15.0         NaN          60   \n",
              "1                  NaN        NaN        3.0         NaN           3   \n",
              "2            Christian       13.0       15.0        20.0          40   \n",
              "3            Christian        NaN       12.0         NaN          51   \n",
              "4               Shiite       44.0       47.0         NaN          65   \n",
              "\n",
              "  No. of Suicide Blasts Explosive Weight (max)  \\\n",
              "0                   2.0                    NaN   \n",
              "1                   1.0                    NaN   \n",
              "2                   1.0                 2.5 Kg   \n",
              "3                   1.0                    NaN   \n",
              "4                   1.0                    NaN   \n",
              "\n",
              "                                      Hospital Names  Temperature(C)  \\\n",
              "0                                                NaN          15.835   \n",
              "1                                                NaN          23.770   \n",
              "2  1.Jinnah Postgraduate Medical Center 2. Civil ...          31.460   \n",
              "3                                                NaN          31.430   \n",
              "4  1.CMH Quetta \\n2.Civil Hospital 3. Boland Medi...          33.120   \n",
              "\n",
              "   Temperature(F)  \n",
              "0          60.503  \n",
              "1          74.786  \n",
              "2          88.628  \n",
              "3          88.574  \n",
              "4          91.616  \n",
              "\n",
              "[5 rows x 26 columns]"
            ],
            "text/html": [
              "\n",
              "  <div id=\"df-948f7cf6-3472-4c21-9bdd-5353b160cdf3\" class=\"colab-df-container\">\n",
              "    <div>\n",
              "<style scoped>\n",
              "    .dataframe tbody tr th:only-of-type {\n",
              "        vertical-align: middle;\n",
              "    }\n",
              "\n",
              "    .dataframe tbody tr th {\n",
              "        vertical-align: top;\n",
              "    }\n",
              "\n",
              "    .dataframe thead th {\n",
              "        text-align: right;\n",
              "    }\n",
              "</style>\n",
              "<table border=\"1\" class=\"dataframe\">\n",
              "  <thead>\n",
              "    <tr style=\"text-align: right;\">\n",
              "      <th></th>\n",
              "      <th>S#</th>\n",
              "      <th>Date</th>\n",
              "      <th>Islamic Date</th>\n",
              "      <th>Blast Day Type</th>\n",
              "      <th>Holiday Type</th>\n",
              "      <th>Time</th>\n",
              "      <th>City</th>\n",
              "      <th>Latitude</th>\n",
              "      <th>Longitude</th>\n",
              "      <th>Province</th>\n",
              "      <th>...</th>\n",
              "      <th>Targeted Sect if any</th>\n",
              "      <th>Killed Min</th>\n",
              "      <th>Killed Max</th>\n",
              "      <th>Injured Min</th>\n",
              "      <th>Injured Max</th>\n",
              "      <th>No. of Suicide Blasts</th>\n",
              "      <th>Explosive Weight (max)</th>\n",
              "      <th>Hospital Names</th>\n",
              "      <th>Temperature(C)</th>\n",
              "      <th>Temperature(F)</th>\n",
              "    </tr>\n",
              "  </thead>\n",
              "  <tbody>\n",
              "    <tr>\n",
              "      <th>0</th>\n",
              "      <td>1</td>\n",
              "      <td>November 19-1995</td>\n",
              "      <td>25 Jumaada al-THaany 1416 A.H</td>\n",
              "      <td>Holiday</td>\n",
              "      <td>Weekend</td>\n",
              "      <td>NaN</td>\n",
              "      <td>Islamabad</td>\n",
              "      <td>33.7180</td>\n",
              "      <td>73.0718</td>\n",
              "      <td>Capital</td>\n",
              "      <td>...</td>\n",
              "      <td>NaN</td>\n",
              "      <td>14.0</td>\n",
              "      <td>15.0</td>\n",
              "      <td>NaN</td>\n",
              "      <td>60</td>\n",
              "      <td>2.0</td>\n",
              "      <td>NaN</td>\n",
              "      <td>NaN</td>\n",
              "      <td>15.835</td>\n",
              "      <td>60.503</td>\n",
              "    </tr>\n",
              "    <tr>\n",
              "      <th>1</th>\n",
              "      <td>2</td>\n",
              "      <td>November 6-2000</td>\n",
              "      <td>10 SHa`baan 1421 A.H</td>\n",
              "      <td>Working Day</td>\n",
              "      <td>NaN</td>\n",
              "      <td>NaN</td>\n",
              "      <td>Karachi</td>\n",
              "      <td>24.9918</td>\n",
              "      <td>66.9911</td>\n",
              "      <td>Sindh</td>\n",
              "      <td>...</td>\n",
              "      <td>NaN</td>\n",
              "      <td>NaN</td>\n",
              "      <td>3.0</td>\n",
              "      <td>NaN</td>\n",
              "      <td>3</td>\n",
              "      <td>1.0</td>\n",
              "      <td>NaN</td>\n",
              "      <td>NaN</td>\n",
              "      <td>23.770</td>\n",
              "      <td>74.786</td>\n",
              "    </tr>\n",
              "    <tr>\n",
              "      <th>2</th>\n",
              "      <td>3</td>\n",
              "      <td>May 8-2002</td>\n",
              "      <td>25 safar 1423 A.H</td>\n",
              "      <td>Working Day</td>\n",
              "      <td>NaN</td>\n",
              "      <td>7:45 AM</td>\n",
              "      <td>Karachi</td>\n",
              "      <td>24.9918</td>\n",
              "      <td>66.9911</td>\n",
              "      <td>Sindh</td>\n",
              "      <td>...</td>\n",
              "      <td>Christian</td>\n",
              "      <td>13.0</td>\n",
              "      <td>15.0</td>\n",
              "      <td>20.0</td>\n",
              "      <td>40</td>\n",
              "      <td>1.0</td>\n",
              "      <td>2.5 Kg</td>\n",
              "      <td>1.Jinnah Postgraduate Medical Center 2. Civil ...</td>\n",
              "      <td>31.460</td>\n",
              "      <td>88.628</td>\n",
              "    </tr>\n",
              "    <tr>\n",
              "      <th>3</th>\n",
              "      <td>4</td>\n",
              "      <td>June 14-2002</td>\n",
              "      <td>3 Raby` al-THaany 1423 A.H</td>\n",
              "      <td>Working Day</td>\n",
              "      <td>NaN</td>\n",
              "      <td>11:10:00 AM</td>\n",
              "      <td>Karachi</td>\n",
              "      <td>24.9918</td>\n",
              "      <td>66.9911</td>\n",
              "      <td>Sindh</td>\n",
              "      <td>...</td>\n",
              "      <td>Christian</td>\n",
              "      <td>NaN</td>\n",
              "      <td>12.0</td>\n",
              "      <td>NaN</td>\n",
              "      <td>51</td>\n",
              "      <td>1.0</td>\n",
              "      <td>NaN</td>\n",
              "      <td>NaN</td>\n",
              "      <td>31.430</td>\n",
              "      <td>88.574</td>\n",
              "    </tr>\n",
              "    <tr>\n",
              "      <th>4</th>\n",
              "      <td>5</td>\n",
              "      <td>July 4-2003</td>\n",
              "      <td>4 Jumaada al-awal 1424 A.H</td>\n",
              "      <td>Working Day</td>\n",
              "      <td>NaN</td>\n",
              "      <td>NaN</td>\n",
              "      <td>Quetta</td>\n",
              "      <td>30.2095</td>\n",
              "      <td>67.0182</td>\n",
              "      <td>Baluchistan</td>\n",
              "      <td>...</td>\n",
              "      <td>Shiite</td>\n",
              "      <td>44.0</td>\n",
              "      <td>47.0</td>\n",
              "      <td>NaN</td>\n",
              "      <td>65</td>\n",
              "      <td>1.0</td>\n",
              "      <td>NaN</td>\n",
              "      <td>1.CMH Quetta \\n2.Civil Hospital 3. Boland Medi...</td>\n",
              "      <td>33.120</td>\n",
              "      <td>91.616</td>\n",
              "    </tr>\n",
              "  </tbody>\n",
              "</table>\n",
              "<p>5 rows × 26 columns</p>\n",
              "</div>\n",
              "    <div class=\"colab-df-buttons\">\n",
              "\n",
              "  <div class=\"colab-df-container\">\n",
              "    <button class=\"colab-df-convert\" onclick=\"convertToInteractive('df-948f7cf6-3472-4c21-9bdd-5353b160cdf3')\"\n",
              "            title=\"Convert this dataframe to an interactive table.\"\n",
              "            style=\"display:none;\">\n",
              "\n",
              "  <svg xmlns=\"http://www.w3.org/2000/svg\" height=\"24px\" viewBox=\"0 -960 960 960\">\n",
              "    <path d=\"M120-120v-720h720v720H120Zm60-500h600v-160H180v160Zm220 220h160v-160H400v160Zm0 220h160v-160H400v160ZM180-400h160v-160H180v160Zm440 0h160v-160H620v160ZM180-180h160v-160H180v160Zm440 0h160v-160H620v160Z\"/>\n",
              "  </svg>\n",
              "    </button>\n",
              "\n",
              "  <style>\n",
              "    .colab-df-container {\n",
              "      display:flex;\n",
              "      gap: 12px;\n",
              "    }\n",
              "\n",
              "    .colab-df-convert {\n",
              "      background-color: #E8F0FE;\n",
              "      border: none;\n",
              "      border-radius: 50%;\n",
              "      cursor: pointer;\n",
              "      display: none;\n",
              "      fill: #1967D2;\n",
              "      height: 32px;\n",
              "      padding: 0 0 0 0;\n",
              "      width: 32px;\n",
              "    }\n",
              "\n",
              "    .colab-df-convert:hover {\n",
              "      background-color: #E2EBFA;\n",
              "      box-shadow: 0px 1px 2px rgba(60, 64, 67, 0.3), 0px 1px 3px 1px rgba(60, 64, 67, 0.15);\n",
              "      fill: #174EA6;\n",
              "    }\n",
              "\n",
              "    .colab-df-buttons div {\n",
              "      margin-bottom: 4px;\n",
              "    }\n",
              "\n",
              "    [theme=dark] .colab-df-convert {\n",
              "      background-color: #3B4455;\n",
              "      fill: #D2E3FC;\n",
              "    }\n",
              "\n",
              "    [theme=dark] .colab-df-convert:hover {\n",
              "      background-color: #434B5C;\n",
              "      box-shadow: 0px 1px 3px 1px rgba(0, 0, 0, 0.15);\n",
              "      filter: drop-shadow(0px 1px 2px rgba(0, 0, 0, 0.3));\n",
              "      fill: #FFFFFF;\n",
              "    }\n",
              "  </style>\n",
              "\n",
              "    <script>\n",
              "      const buttonEl =\n",
              "        document.querySelector('#df-948f7cf6-3472-4c21-9bdd-5353b160cdf3 button.colab-df-convert');\n",
              "      buttonEl.style.display =\n",
              "        google.colab.kernel.accessAllowed ? 'block' : 'none';\n",
              "\n",
              "      async function convertToInteractive(key) {\n",
              "        const element = document.querySelector('#df-948f7cf6-3472-4c21-9bdd-5353b160cdf3');\n",
              "        const dataTable =\n",
              "          await google.colab.kernel.invokeFunction('convertToInteractive',\n",
              "                                                    [key], {});\n",
              "        if (!dataTable) return;\n",
              "\n",
              "        const docLinkHtml = 'Like what you see? Visit the ' +\n",
              "          '<a target=\"_blank\" href=https://colab.research.google.com/notebooks/data_table.ipynb>data table notebook</a>'\n",
              "          + ' to learn more about interactive tables.';\n",
              "        element.innerHTML = '';\n",
              "        dataTable['output_type'] = 'display_data';\n",
              "        await google.colab.output.renderOutput(dataTable, element);\n",
              "        const docLink = document.createElement('div');\n",
              "        docLink.innerHTML = docLinkHtml;\n",
              "        element.appendChild(docLink);\n",
              "      }\n",
              "    </script>\n",
              "  </div>\n",
              "\n",
              "\n",
              "<div id=\"df-316463ac-cb87-4a17-b7af-478692d83dfe\">\n",
              "  <button class=\"colab-df-quickchart\" onclick=\"quickchart('df-316463ac-cb87-4a17-b7af-478692d83dfe')\"\n",
              "            title=\"Suggest charts\"\n",
              "            style=\"display:none;\">\n",
              "\n",
              "<svg xmlns=\"http://www.w3.org/2000/svg\" height=\"24px\"viewBox=\"0 0 24 24\"\n",
              "     width=\"24px\">\n",
              "    <g>\n",
              "        <path d=\"M19 3H5c-1.1 0-2 .9-2 2v14c0 1.1.9 2 2 2h14c1.1 0 2-.9 2-2V5c0-1.1-.9-2-2-2zM9 17H7v-7h2v7zm4 0h-2V7h2v10zm4 0h-2v-4h2v4z\"/>\n",
              "    </g>\n",
              "</svg>\n",
              "  </button>\n",
              "\n",
              "<style>\n",
              "  .colab-df-quickchart {\n",
              "      --bg-color: #E8F0FE;\n",
              "      --fill-color: #1967D2;\n",
              "      --hover-bg-color: #E2EBFA;\n",
              "      --hover-fill-color: #174EA6;\n",
              "      --disabled-fill-color: #AAA;\n",
              "      --disabled-bg-color: #DDD;\n",
              "  }\n",
              "\n",
              "  [theme=dark] .colab-df-quickchart {\n",
              "      --bg-color: #3B4455;\n",
              "      --fill-color: #D2E3FC;\n",
              "      --hover-bg-color: #434B5C;\n",
              "      --hover-fill-color: #FFFFFF;\n",
              "      --disabled-bg-color: #3B4455;\n",
              "      --disabled-fill-color: #666;\n",
              "  }\n",
              "\n",
              "  .colab-df-quickchart {\n",
              "    background-color: var(--bg-color);\n",
              "    border: none;\n",
              "    border-radius: 50%;\n",
              "    cursor: pointer;\n",
              "    display: none;\n",
              "    fill: var(--fill-color);\n",
              "    height: 32px;\n",
              "    padding: 0;\n",
              "    width: 32px;\n",
              "  }\n",
              "\n",
              "  .colab-df-quickchart:hover {\n",
              "    background-color: var(--hover-bg-color);\n",
              "    box-shadow: 0 1px 2px rgba(60, 64, 67, 0.3), 0 1px 3px 1px rgba(60, 64, 67, 0.15);\n",
              "    fill: var(--button-hover-fill-color);\n",
              "  }\n",
              "\n",
              "  .colab-df-quickchart-complete:disabled,\n",
              "  .colab-df-quickchart-complete:disabled:hover {\n",
              "    background-color: var(--disabled-bg-color);\n",
              "    fill: var(--disabled-fill-color);\n",
              "    box-shadow: none;\n",
              "  }\n",
              "\n",
              "  .colab-df-spinner {\n",
              "    border: 2px solid var(--fill-color);\n",
              "    border-color: transparent;\n",
              "    border-bottom-color: var(--fill-color);\n",
              "    animation:\n",
              "      spin 1s steps(1) infinite;\n",
              "  }\n",
              "\n",
              "  @keyframes spin {\n",
              "    0% {\n",
              "      border-color: transparent;\n",
              "      border-bottom-color: var(--fill-color);\n",
              "      border-left-color: var(--fill-color);\n",
              "    }\n",
              "    20% {\n",
              "      border-color: transparent;\n",
              "      border-left-color: var(--fill-color);\n",
              "      border-top-color: var(--fill-color);\n",
              "    }\n",
              "    30% {\n",
              "      border-color: transparent;\n",
              "      border-left-color: var(--fill-color);\n",
              "      border-top-color: var(--fill-color);\n",
              "      border-right-color: var(--fill-color);\n",
              "    }\n",
              "    40% {\n",
              "      border-color: transparent;\n",
              "      border-right-color: var(--fill-color);\n",
              "      border-top-color: var(--fill-color);\n",
              "    }\n",
              "    60% {\n",
              "      border-color: transparent;\n",
              "      border-right-color: var(--fill-color);\n",
              "    }\n",
              "    80% {\n",
              "      border-color: transparent;\n",
              "      border-right-color: var(--fill-color);\n",
              "      border-bottom-color: var(--fill-color);\n",
              "    }\n",
              "    90% {\n",
              "      border-color: transparent;\n",
              "      border-bottom-color: var(--fill-color);\n",
              "    }\n",
              "  }\n",
              "</style>\n",
              "\n",
              "  <script>\n",
              "    async function quickchart(key) {\n",
              "      const quickchartButtonEl =\n",
              "        document.querySelector('#' + key + ' button');\n",
              "      quickchartButtonEl.disabled = true;  // To prevent multiple clicks.\n",
              "      quickchartButtonEl.classList.add('colab-df-spinner');\n",
              "      try {\n",
              "        const charts = await google.colab.kernel.invokeFunction(\n",
              "            'suggestCharts', [key], {});\n",
              "      } catch (error) {\n",
              "        console.error('Error during call to suggestCharts:', error);\n",
              "      }\n",
              "      quickchartButtonEl.classList.remove('colab-df-spinner');\n",
              "      quickchartButtonEl.classList.add('colab-df-quickchart-complete');\n",
              "    }\n",
              "    (() => {\n",
              "      let quickchartButtonEl =\n",
              "        document.querySelector('#df-316463ac-cb87-4a17-b7af-478692d83dfe button');\n",
              "      quickchartButtonEl.style.display =\n",
              "        google.colab.kernel.accessAllowed ? 'block' : 'none';\n",
              "    })();\n",
              "  </script>\n",
              "</div>\n",
              "\n",
              "    </div>\n",
              "  </div>\n"
            ],
            "application/vnd.google.colaboratory.intrinsic+json": {
              "type": "dataframe",
              "variable_name": "df"
            }
          },
          "metadata": {},
          "execution_count": 68
        }
      ]
    },
    {
      "cell_type": "code",
      "source": [
        "# loading bottom five rows\n",
        "df.tail()"
      ],
      "metadata": {
        "id": "fA3bntad8NQt",
        "colab": {
          "base_uri": "https://localhost:8080/",
          "height": 444
        },
        "outputId": "c7efa027-0fe6-489b-892b-56002715771c"
      },
      "execution_count": 69,
      "outputs": [
        {
          "output_type": "execute_result",
          "data": {
            "text/plain": [
              "      S#              Date              Islamic Date Blast Day Type  \\\n",
              "491  492   October 05-2017      13 MuHarram 1439 A.H    Working Day   \n",
              "492  493   October 19-2017      27 MuHarram 1439 A.H    Working Day   \n",
              "493  494   November 9-2017         19 Safar 1439 A.H    Working Day   \n",
              "494  495  November 24-2017  5 Rabi Al-Awwal 1439 A.H    Working Day   \n",
              "495  496  November 25-2017  6 Rabi Al-Awwal 1439 A.H    Working Day   \n",
              "\n",
              "    Holiday Type     Time      City   Latitude  Longitude     Province  ...  \\\n",
              "491          NaN      NaN    Quetta  28.571051  67.496895  Balochistan  ...   \n",
              "492          NaN  8:00 AM    Quetta        NaN        NaN  Balochistan  ...   \n",
              "493          NaN  7:00 AM    Quetta  30.221057  67.002524  Balochistan  ...   \n",
              "494          NaN  7:00 AM  Peshawar  33.970623   71.43862          KPK  ...   \n",
              "495          NaN  7:00 AM    Quetta  30.139626  66.981476  Balochistan  ...   \n",
              "\n",
              "    Targeted Sect if any Killed Min Killed Max Injured Min Injured Max  \\\n",
              "491                  NaN       21.0       22.0        25.0         NaN   \n",
              "492                  NaN        7.0        7.0        22.0          22   \n",
              "493                  NaN        2.0        2.0         8.0           8   \n",
              "494                  NaN        1.0        3.0         6.0           8   \n",
              "495                  NaN        4.0        4.0        16.0          22   \n",
              "\n",
              "    No. of Suicide Blasts Explosive Weight (max)  \\\n",
              "491                   1.0                    NaN   \n",
              "492                   1.0                    NaN   \n",
              "493                   1.0                   15KG   \n",
              "494                   1.0                   20KG   \n",
              "495                   1.0                   10KG   \n",
              "\n",
              "                                        Hospital Names  Temperature(C)  \\\n",
              "491  Larkana Hospital, Gandawah District Headquarte...            27.8   \n",
              "492                                                NaN            26.0   \n",
              "493  Combined Military Hospital (CMH)-(Quetta), Civ...            25.0   \n",
              "494                Hayatabad Medical Complex(Peshawar)            22.0   \n",
              "495                             Civil Hospital(Quetta)            29.0   \n",
              "\n",
              "     Temperature(F)  \n",
              "491            81.0  \n",
              "492            79.0  \n",
              "493            77.0  \n",
              "494            72.0  \n",
              "495            84.0  \n",
              "\n",
              "[5 rows x 26 columns]"
            ],
            "text/html": [
              "\n",
              "  <div id=\"df-f7805f31-2415-4222-9b8d-dce18e5cff22\" class=\"colab-df-container\">\n",
              "    <div>\n",
              "<style scoped>\n",
              "    .dataframe tbody tr th:only-of-type {\n",
              "        vertical-align: middle;\n",
              "    }\n",
              "\n",
              "    .dataframe tbody tr th {\n",
              "        vertical-align: top;\n",
              "    }\n",
              "\n",
              "    .dataframe thead th {\n",
              "        text-align: right;\n",
              "    }\n",
              "</style>\n",
              "<table border=\"1\" class=\"dataframe\">\n",
              "  <thead>\n",
              "    <tr style=\"text-align: right;\">\n",
              "      <th></th>\n",
              "      <th>S#</th>\n",
              "      <th>Date</th>\n",
              "      <th>Islamic Date</th>\n",
              "      <th>Blast Day Type</th>\n",
              "      <th>Holiday Type</th>\n",
              "      <th>Time</th>\n",
              "      <th>City</th>\n",
              "      <th>Latitude</th>\n",
              "      <th>Longitude</th>\n",
              "      <th>Province</th>\n",
              "      <th>...</th>\n",
              "      <th>Targeted Sect if any</th>\n",
              "      <th>Killed Min</th>\n",
              "      <th>Killed Max</th>\n",
              "      <th>Injured Min</th>\n",
              "      <th>Injured Max</th>\n",
              "      <th>No. of Suicide Blasts</th>\n",
              "      <th>Explosive Weight (max)</th>\n",
              "      <th>Hospital Names</th>\n",
              "      <th>Temperature(C)</th>\n",
              "      <th>Temperature(F)</th>\n",
              "    </tr>\n",
              "  </thead>\n",
              "  <tbody>\n",
              "    <tr>\n",
              "      <th>491</th>\n",
              "      <td>492</td>\n",
              "      <td>October 05-2017</td>\n",
              "      <td>13 MuHarram 1439 A.H</td>\n",
              "      <td>Working Day</td>\n",
              "      <td>NaN</td>\n",
              "      <td>NaN</td>\n",
              "      <td>Quetta</td>\n",
              "      <td>28.571051</td>\n",
              "      <td>67.496895</td>\n",
              "      <td>Balochistan</td>\n",
              "      <td>...</td>\n",
              "      <td>NaN</td>\n",
              "      <td>21.0</td>\n",
              "      <td>22.0</td>\n",
              "      <td>25.0</td>\n",
              "      <td>NaN</td>\n",
              "      <td>1.0</td>\n",
              "      <td>NaN</td>\n",
              "      <td>Larkana Hospital, Gandawah District Headquarte...</td>\n",
              "      <td>27.8</td>\n",
              "      <td>81.0</td>\n",
              "    </tr>\n",
              "    <tr>\n",
              "      <th>492</th>\n",
              "      <td>493</td>\n",
              "      <td>October 19-2017</td>\n",
              "      <td>27 MuHarram 1439 A.H</td>\n",
              "      <td>Working Day</td>\n",
              "      <td>NaN</td>\n",
              "      <td>8:00 AM</td>\n",
              "      <td>Quetta</td>\n",
              "      <td>NaN</td>\n",
              "      <td>NaN</td>\n",
              "      <td>Balochistan</td>\n",
              "      <td>...</td>\n",
              "      <td>NaN</td>\n",
              "      <td>7.0</td>\n",
              "      <td>7.0</td>\n",
              "      <td>22.0</td>\n",
              "      <td>22</td>\n",
              "      <td>1.0</td>\n",
              "      <td>NaN</td>\n",
              "      <td>NaN</td>\n",
              "      <td>26.0</td>\n",
              "      <td>79.0</td>\n",
              "    </tr>\n",
              "    <tr>\n",
              "      <th>493</th>\n",
              "      <td>494</td>\n",
              "      <td>November 9-2017</td>\n",
              "      <td>19 Safar 1439 A.H</td>\n",
              "      <td>Working Day</td>\n",
              "      <td>NaN</td>\n",
              "      <td>7:00 AM</td>\n",
              "      <td>Quetta</td>\n",
              "      <td>30.221057</td>\n",
              "      <td>67.002524</td>\n",
              "      <td>Balochistan</td>\n",
              "      <td>...</td>\n",
              "      <td>NaN</td>\n",
              "      <td>2.0</td>\n",
              "      <td>2.0</td>\n",
              "      <td>8.0</td>\n",
              "      <td>8</td>\n",
              "      <td>1.0</td>\n",
              "      <td>15KG</td>\n",
              "      <td>Combined Military Hospital (CMH)-(Quetta), Civ...</td>\n",
              "      <td>25.0</td>\n",
              "      <td>77.0</td>\n",
              "    </tr>\n",
              "    <tr>\n",
              "      <th>494</th>\n",
              "      <td>495</td>\n",
              "      <td>November 24-2017</td>\n",
              "      <td>5 Rabi Al-Awwal 1439 A.H</td>\n",
              "      <td>Working Day</td>\n",
              "      <td>NaN</td>\n",
              "      <td>7:00 AM</td>\n",
              "      <td>Peshawar</td>\n",
              "      <td>33.970623</td>\n",
              "      <td>71.43862</td>\n",
              "      <td>KPK</td>\n",
              "      <td>...</td>\n",
              "      <td>NaN</td>\n",
              "      <td>1.0</td>\n",
              "      <td>3.0</td>\n",
              "      <td>6.0</td>\n",
              "      <td>8</td>\n",
              "      <td>1.0</td>\n",
              "      <td>20KG</td>\n",
              "      <td>Hayatabad Medical Complex(Peshawar)</td>\n",
              "      <td>22.0</td>\n",
              "      <td>72.0</td>\n",
              "    </tr>\n",
              "    <tr>\n",
              "      <th>495</th>\n",
              "      <td>496</td>\n",
              "      <td>November 25-2017</td>\n",
              "      <td>6 Rabi Al-Awwal 1439 A.H</td>\n",
              "      <td>Working Day</td>\n",
              "      <td>NaN</td>\n",
              "      <td>7:00 AM</td>\n",
              "      <td>Quetta</td>\n",
              "      <td>30.139626</td>\n",
              "      <td>66.981476</td>\n",
              "      <td>Balochistan</td>\n",
              "      <td>...</td>\n",
              "      <td>NaN</td>\n",
              "      <td>4.0</td>\n",
              "      <td>4.0</td>\n",
              "      <td>16.0</td>\n",
              "      <td>22</td>\n",
              "      <td>1.0</td>\n",
              "      <td>10KG</td>\n",
              "      <td>Civil Hospital(Quetta)</td>\n",
              "      <td>29.0</td>\n",
              "      <td>84.0</td>\n",
              "    </tr>\n",
              "  </tbody>\n",
              "</table>\n",
              "<p>5 rows × 26 columns</p>\n",
              "</div>\n",
              "    <div class=\"colab-df-buttons\">\n",
              "\n",
              "  <div class=\"colab-df-container\">\n",
              "    <button class=\"colab-df-convert\" onclick=\"convertToInteractive('df-f7805f31-2415-4222-9b8d-dce18e5cff22')\"\n",
              "            title=\"Convert this dataframe to an interactive table.\"\n",
              "            style=\"display:none;\">\n",
              "\n",
              "  <svg xmlns=\"http://www.w3.org/2000/svg\" height=\"24px\" viewBox=\"0 -960 960 960\">\n",
              "    <path d=\"M120-120v-720h720v720H120Zm60-500h600v-160H180v160Zm220 220h160v-160H400v160Zm0 220h160v-160H400v160ZM180-400h160v-160H180v160Zm440 0h160v-160H620v160ZM180-180h160v-160H180v160Zm440 0h160v-160H620v160Z\"/>\n",
              "  </svg>\n",
              "    </button>\n",
              "\n",
              "  <style>\n",
              "    .colab-df-container {\n",
              "      display:flex;\n",
              "      gap: 12px;\n",
              "    }\n",
              "\n",
              "    .colab-df-convert {\n",
              "      background-color: #E8F0FE;\n",
              "      border: none;\n",
              "      border-radius: 50%;\n",
              "      cursor: pointer;\n",
              "      display: none;\n",
              "      fill: #1967D2;\n",
              "      height: 32px;\n",
              "      padding: 0 0 0 0;\n",
              "      width: 32px;\n",
              "    }\n",
              "\n",
              "    .colab-df-convert:hover {\n",
              "      background-color: #E2EBFA;\n",
              "      box-shadow: 0px 1px 2px rgba(60, 64, 67, 0.3), 0px 1px 3px 1px rgba(60, 64, 67, 0.15);\n",
              "      fill: #174EA6;\n",
              "    }\n",
              "\n",
              "    .colab-df-buttons div {\n",
              "      margin-bottom: 4px;\n",
              "    }\n",
              "\n",
              "    [theme=dark] .colab-df-convert {\n",
              "      background-color: #3B4455;\n",
              "      fill: #D2E3FC;\n",
              "    }\n",
              "\n",
              "    [theme=dark] .colab-df-convert:hover {\n",
              "      background-color: #434B5C;\n",
              "      box-shadow: 0px 1px 3px 1px rgba(0, 0, 0, 0.15);\n",
              "      filter: drop-shadow(0px 1px 2px rgba(0, 0, 0, 0.3));\n",
              "      fill: #FFFFFF;\n",
              "    }\n",
              "  </style>\n",
              "\n",
              "    <script>\n",
              "      const buttonEl =\n",
              "        document.querySelector('#df-f7805f31-2415-4222-9b8d-dce18e5cff22 button.colab-df-convert');\n",
              "      buttonEl.style.display =\n",
              "        google.colab.kernel.accessAllowed ? 'block' : 'none';\n",
              "\n",
              "      async function convertToInteractive(key) {\n",
              "        const element = document.querySelector('#df-f7805f31-2415-4222-9b8d-dce18e5cff22');\n",
              "        const dataTable =\n",
              "          await google.colab.kernel.invokeFunction('convertToInteractive',\n",
              "                                                    [key], {});\n",
              "        if (!dataTable) return;\n",
              "\n",
              "        const docLinkHtml = 'Like what you see? Visit the ' +\n",
              "          '<a target=\"_blank\" href=https://colab.research.google.com/notebooks/data_table.ipynb>data table notebook</a>'\n",
              "          + ' to learn more about interactive tables.';\n",
              "        element.innerHTML = '';\n",
              "        dataTable['output_type'] = 'display_data';\n",
              "        await google.colab.output.renderOutput(dataTable, element);\n",
              "        const docLink = document.createElement('div');\n",
              "        docLink.innerHTML = docLinkHtml;\n",
              "        element.appendChild(docLink);\n",
              "      }\n",
              "    </script>\n",
              "  </div>\n",
              "\n",
              "\n",
              "<div id=\"df-834ac054-9d43-48f0-bbaf-1410bdf1045d\">\n",
              "  <button class=\"colab-df-quickchart\" onclick=\"quickchart('df-834ac054-9d43-48f0-bbaf-1410bdf1045d')\"\n",
              "            title=\"Suggest charts\"\n",
              "            style=\"display:none;\">\n",
              "\n",
              "<svg xmlns=\"http://www.w3.org/2000/svg\" height=\"24px\"viewBox=\"0 0 24 24\"\n",
              "     width=\"24px\">\n",
              "    <g>\n",
              "        <path d=\"M19 3H5c-1.1 0-2 .9-2 2v14c0 1.1.9 2 2 2h14c1.1 0 2-.9 2-2V5c0-1.1-.9-2-2-2zM9 17H7v-7h2v7zm4 0h-2V7h2v10zm4 0h-2v-4h2v4z\"/>\n",
              "    </g>\n",
              "</svg>\n",
              "  </button>\n",
              "\n",
              "<style>\n",
              "  .colab-df-quickchart {\n",
              "      --bg-color: #E8F0FE;\n",
              "      --fill-color: #1967D2;\n",
              "      --hover-bg-color: #E2EBFA;\n",
              "      --hover-fill-color: #174EA6;\n",
              "      --disabled-fill-color: #AAA;\n",
              "      --disabled-bg-color: #DDD;\n",
              "  }\n",
              "\n",
              "  [theme=dark] .colab-df-quickchart {\n",
              "      --bg-color: #3B4455;\n",
              "      --fill-color: #D2E3FC;\n",
              "      --hover-bg-color: #434B5C;\n",
              "      --hover-fill-color: #FFFFFF;\n",
              "      --disabled-bg-color: #3B4455;\n",
              "      --disabled-fill-color: #666;\n",
              "  }\n",
              "\n",
              "  .colab-df-quickchart {\n",
              "    background-color: var(--bg-color);\n",
              "    border: none;\n",
              "    border-radius: 50%;\n",
              "    cursor: pointer;\n",
              "    display: none;\n",
              "    fill: var(--fill-color);\n",
              "    height: 32px;\n",
              "    padding: 0;\n",
              "    width: 32px;\n",
              "  }\n",
              "\n",
              "  .colab-df-quickchart:hover {\n",
              "    background-color: var(--hover-bg-color);\n",
              "    box-shadow: 0 1px 2px rgba(60, 64, 67, 0.3), 0 1px 3px 1px rgba(60, 64, 67, 0.15);\n",
              "    fill: var(--button-hover-fill-color);\n",
              "  }\n",
              "\n",
              "  .colab-df-quickchart-complete:disabled,\n",
              "  .colab-df-quickchart-complete:disabled:hover {\n",
              "    background-color: var(--disabled-bg-color);\n",
              "    fill: var(--disabled-fill-color);\n",
              "    box-shadow: none;\n",
              "  }\n",
              "\n",
              "  .colab-df-spinner {\n",
              "    border: 2px solid var(--fill-color);\n",
              "    border-color: transparent;\n",
              "    border-bottom-color: var(--fill-color);\n",
              "    animation:\n",
              "      spin 1s steps(1) infinite;\n",
              "  }\n",
              "\n",
              "  @keyframes spin {\n",
              "    0% {\n",
              "      border-color: transparent;\n",
              "      border-bottom-color: var(--fill-color);\n",
              "      border-left-color: var(--fill-color);\n",
              "    }\n",
              "    20% {\n",
              "      border-color: transparent;\n",
              "      border-left-color: var(--fill-color);\n",
              "      border-top-color: var(--fill-color);\n",
              "    }\n",
              "    30% {\n",
              "      border-color: transparent;\n",
              "      border-left-color: var(--fill-color);\n",
              "      border-top-color: var(--fill-color);\n",
              "      border-right-color: var(--fill-color);\n",
              "    }\n",
              "    40% {\n",
              "      border-color: transparent;\n",
              "      border-right-color: var(--fill-color);\n",
              "      border-top-color: var(--fill-color);\n",
              "    }\n",
              "    60% {\n",
              "      border-color: transparent;\n",
              "      border-right-color: var(--fill-color);\n",
              "    }\n",
              "    80% {\n",
              "      border-color: transparent;\n",
              "      border-right-color: var(--fill-color);\n",
              "      border-bottom-color: var(--fill-color);\n",
              "    }\n",
              "    90% {\n",
              "      border-color: transparent;\n",
              "      border-bottom-color: var(--fill-color);\n",
              "    }\n",
              "  }\n",
              "</style>\n",
              "\n",
              "  <script>\n",
              "    async function quickchart(key) {\n",
              "      const quickchartButtonEl =\n",
              "        document.querySelector('#' + key + ' button');\n",
              "      quickchartButtonEl.disabled = true;  // To prevent multiple clicks.\n",
              "      quickchartButtonEl.classList.add('colab-df-spinner');\n",
              "      try {\n",
              "        const charts = await google.colab.kernel.invokeFunction(\n",
              "            'suggestCharts', [key], {});\n",
              "      } catch (error) {\n",
              "        console.error('Error during call to suggestCharts:', error);\n",
              "      }\n",
              "      quickchartButtonEl.classList.remove('colab-df-spinner');\n",
              "      quickchartButtonEl.classList.add('colab-df-quickchart-complete');\n",
              "    }\n",
              "    (() => {\n",
              "      let quickchartButtonEl =\n",
              "        document.querySelector('#df-834ac054-9d43-48f0-bbaf-1410bdf1045d button');\n",
              "      quickchartButtonEl.style.display =\n",
              "        google.colab.kernel.accessAllowed ? 'block' : 'none';\n",
              "    })();\n",
              "  </script>\n",
              "</div>\n",
              "\n",
              "    </div>\n",
              "  </div>\n"
            ],
            "application/vnd.google.colaboratory.intrinsic+json": {
              "type": "dataframe"
            }
          },
          "metadata": {},
          "execution_count": 69
        }
      ]
    },
    {
      "cell_type": "code",
      "source": [
        "df.columns"
      ],
      "metadata": {
        "colab": {
          "base_uri": "https://localhost:8080/"
        },
        "id": "l-B4I3pt-A1J",
        "outputId": "7f33191c-88c2-4e56-9823-f55bc16f9d92"
      },
      "execution_count": 70,
      "outputs": [
        {
          "output_type": "execute_result",
          "data": {
            "text/plain": [
              "Index(['S#', 'Date', 'Islamic Date', 'Blast Day Type', 'Holiday Type', 'Time',\n",
              "       'City', 'Latitude', 'Longitude', 'Province', 'Location',\n",
              "       'Location Category', 'Location Sensitivity', 'Open/Closed Space',\n",
              "       'Influencing Event/Event', 'Target Type', 'Targeted Sect if any',\n",
              "       'Killed Min', 'Killed Max', 'Injured Min', 'Injured Max',\n",
              "       'No. of Suicide Blasts', 'Explosive Weight (max)', 'Hospital Names',\n",
              "       'Temperature(C)', 'Temperature(F)'],\n",
              "      dtype='object')"
            ]
          },
          "metadata": {},
          "execution_count": 70
        }
      ]
    },
    {
      "cell_type": "markdown",
      "source": [
        "3. Pre Processing"
      ],
      "metadata": {
        "id": "XhWGfF-t9R6r"
      }
    },
    {
      "cell_type": "code",
      "source": [
        "# checking missing values\n",
        "df.isnull().sum()"
      ],
      "metadata": {
        "colab": {
          "base_uri": "https://localhost:8080/",
          "height": 899
        },
        "id": "BFZYNUzq9Rcs",
        "outputId": "9dc92726-9687-4113-a58e-ca33820cd64f"
      },
      "execution_count": 71,
      "outputs": [
        {
          "output_type": "execute_result",
          "data": {
            "text/plain": [
              "S#                           0\n",
              "Date                         0\n",
              "Islamic Date               154\n",
              "Blast Day Type              10\n",
              "Holiday Type               424\n",
              "Time                       211\n",
              "City                         0\n",
              "Latitude                     3\n",
              "Longitude                    3\n",
              "Province                     0\n",
              "Location                     3\n",
              "Location Category           35\n",
              "Location Sensitivity        36\n",
              "Open/Closed Space           35\n",
              "Influencing Event/Event    305\n",
              "Target Type                 26\n",
              "Targeted Sect if any       399\n",
              "Killed Min                 146\n",
              "Killed Max                  16\n",
              "Injured Min                131\n",
              "Injured Max                 32\n",
              "No. of Suicide Blasts       82\n",
              "Explosive Weight (max)     324\n",
              "Hospital Names             199\n",
              "Temperature(C)               5\n",
              "Temperature(F)               7\n",
              "dtype: int64"
            ],
            "text/html": [
              "<div>\n",
              "<style scoped>\n",
              "    .dataframe tbody tr th:only-of-type {\n",
              "        vertical-align: middle;\n",
              "    }\n",
              "\n",
              "    .dataframe tbody tr th {\n",
              "        vertical-align: top;\n",
              "    }\n",
              "\n",
              "    .dataframe thead th {\n",
              "        text-align: right;\n",
              "    }\n",
              "</style>\n",
              "<table border=\"1\" class=\"dataframe\">\n",
              "  <thead>\n",
              "    <tr style=\"text-align: right;\">\n",
              "      <th></th>\n",
              "      <th>0</th>\n",
              "    </tr>\n",
              "  </thead>\n",
              "  <tbody>\n",
              "    <tr>\n",
              "      <th>S#</th>\n",
              "      <td>0</td>\n",
              "    </tr>\n",
              "    <tr>\n",
              "      <th>Date</th>\n",
              "      <td>0</td>\n",
              "    </tr>\n",
              "    <tr>\n",
              "      <th>Islamic Date</th>\n",
              "      <td>154</td>\n",
              "    </tr>\n",
              "    <tr>\n",
              "      <th>Blast Day Type</th>\n",
              "      <td>10</td>\n",
              "    </tr>\n",
              "    <tr>\n",
              "      <th>Holiday Type</th>\n",
              "      <td>424</td>\n",
              "    </tr>\n",
              "    <tr>\n",
              "      <th>Time</th>\n",
              "      <td>211</td>\n",
              "    </tr>\n",
              "    <tr>\n",
              "      <th>City</th>\n",
              "      <td>0</td>\n",
              "    </tr>\n",
              "    <tr>\n",
              "      <th>Latitude</th>\n",
              "      <td>3</td>\n",
              "    </tr>\n",
              "    <tr>\n",
              "      <th>Longitude</th>\n",
              "      <td>3</td>\n",
              "    </tr>\n",
              "    <tr>\n",
              "      <th>Province</th>\n",
              "      <td>0</td>\n",
              "    </tr>\n",
              "    <tr>\n",
              "      <th>Location</th>\n",
              "      <td>3</td>\n",
              "    </tr>\n",
              "    <tr>\n",
              "      <th>Location Category</th>\n",
              "      <td>35</td>\n",
              "    </tr>\n",
              "    <tr>\n",
              "      <th>Location Sensitivity</th>\n",
              "      <td>36</td>\n",
              "    </tr>\n",
              "    <tr>\n",
              "      <th>Open/Closed Space</th>\n",
              "      <td>35</td>\n",
              "    </tr>\n",
              "    <tr>\n",
              "      <th>Influencing Event/Event</th>\n",
              "      <td>305</td>\n",
              "    </tr>\n",
              "    <tr>\n",
              "      <th>Target Type</th>\n",
              "      <td>26</td>\n",
              "    </tr>\n",
              "    <tr>\n",
              "      <th>Targeted Sect if any</th>\n",
              "      <td>399</td>\n",
              "    </tr>\n",
              "    <tr>\n",
              "      <th>Killed Min</th>\n",
              "      <td>146</td>\n",
              "    </tr>\n",
              "    <tr>\n",
              "      <th>Killed Max</th>\n",
              "      <td>16</td>\n",
              "    </tr>\n",
              "    <tr>\n",
              "      <th>Injured Min</th>\n",
              "      <td>131</td>\n",
              "    </tr>\n",
              "    <tr>\n",
              "      <th>Injured Max</th>\n",
              "      <td>32</td>\n",
              "    </tr>\n",
              "    <tr>\n",
              "      <th>No. of Suicide Blasts</th>\n",
              "      <td>82</td>\n",
              "    </tr>\n",
              "    <tr>\n",
              "      <th>Explosive Weight (max)</th>\n",
              "      <td>324</td>\n",
              "    </tr>\n",
              "    <tr>\n",
              "      <th>Hospital Names</th>\n",
              "      <td>199</td>\n",
              "    </tr>\n",
              "    <tr>\n",
              "      <th>Temperature(C)</th>\n",
              "      <td>5</td>\n",
              "    </tr>\n",
              "    <tr>\n",
              "      <th>Temperature(F)</th>\n",
              "      <td>7</td>\n",
              "    </tr>\n",
              "  </tbody>\n",
              "</table>\n",
              "</div><br><label><b>dtype:</b> int64</label>"
            ]
          },
          "metadata": {},
          "execution_count": 71
        }
      ]
    },
    {
      "cell_type": "code",
      "source": [
        "# total missing values\n",
        "df.isnull().sum().sum()"
      ],
      "metadata": {
        "id": "XMmCYA_N8NTB",
        "colab": {
          "base_uri": "https://localhost:8080/"
        },
        "outputId": "4553f578-82a4-4874-dc8d-8e01ce4f84ea"
      },
      "execution_count": 72,
      "outputs": [
        {
          "output_type": "execute_result",
          "data": {
            "text/plain": [
              "2586"
            ]
          },
          "metadata": {},
          "execution_count": 72
        }
      ]
    },
    {
      "cell_type": "markdown",
      "source": [
        "Text Pre-processing"
      ],
      "metadata": {
        "id": "XNc-TwlSBKVZ"
      }
    },
    {
      "cell_type": "code",
      "source": [
        "df.drop(columns='S#', inplace=True)"
      ],
      "metadata": {
        "id": "56yOMfZN_X3i"
      },
      "execution_count": 73,
      "outputs": []
    },
    {
      "cell_type": "code",
      "source": [
        "df['City'] = df['City'].str.lower()\n",
        "df['City'] = df['City'].str.strip()"
      ],
      "metadata": {
        "id": "e9RDmPK3_X8D"
      },
      "execution_count": 74,
      "outputs": []
    },
    {
      "cell_type": "code",
      "source": [
        "cities = df['City'].unique()\n",
        "cities.sort()\n",
        "cities"
      ],
      "metadata": {
        "colab": {
          "base_uri": "https://localhost:8080/"
        },
        "id": "Ki9fGnFwBAQy",
        "outputId": "e832a328-fc11-4842-eec6-c6d173a5bc6a"
      },
      "execution_count": 75,
      "outputs": [
        {
          "output_type": "execute_result",
          "data": {
            "text/plain": [
              "array(['attock', 'bajaur agency', 'bannu', 'bhakkar', 'buner', 'chakwal',\n",
              "       'chaman', 'charsadda', 'd. i khan', 'd.g khan', 'd.i khan',\n",
              "       'dara adam khel', 'fateh jang', 'ghallanai, mohmand agency',\n",
              "       'gujrat', 'hangu', 'haripur', 'hayatabad', 'islamabad',\n",
              "       'jacobabad', 'karachi', 'karak', 'khanewal', 'khuzdar',\n",
              "       'khyber agency', 'kohat', 'kuram agency', 'kurram agency',\n",
              "       'lahore', 'lakki marwat', 'lasbela', 'lower dir', 'malakand',\n",
              "       'mansehra', 'mardan', 'mohmand agency',\n",
              "       'mosal kor, mohmand agency', 'multan', 'muzaffarabad',\n",
              "       'north waziristan', 'nowshehra', 'orakzai agency', 'peshawar',\n",
              "       'pishin', 'poonch', 'quetta', 'rawalpindi', 'sargodha',\n",
              "       'sehwan town', 'shabqadar-charsadda', 'shangla', 'shikarpur',\n",
              "       'sialkot', 'south waziristan', 'sudhanoti', 'sukkur', 'swabi',\n",
              "       'swat', 'taftan', 'tangi, charsadda district', 'tank', 'taunsa',\n",
              "       'tirah valley', 'totalai', 'upper dir', 'wagah', 'zhob'],\n",
              "      dtype=object)"
            ]
          },
          "metadata": {},
          "execution_count": 75
        }
      ]
    },
    {
      "cell_type": "code",
      "source": [
        "import fuzzywuzzy\n",
        "from fuzzywuzzy import process\n",
        "import chardet"
      ],
      "metadata": {
        "id": "-0X5nqRKBAS6"
      },
      "execution_count": 76,
      "outputs": []
    },
    {
      "cell_type": "code",
      "source": [
        "matches = fuzzywuzzy.process.extract(\"d.i khan\", cities, limit=10, scorer=fuzzywuzzy.fuzz.token_sort_ratio)\n",
        "matches"
      ],
      "metadata": {
        "colab": {
          "base_uri": "https://localhost:8080/"
        },
        "id": "flGHzwsf_Q6D",
        "outputId": "71130278-329b-4c25-dd6b-66e5085e5b23"
      },
      "execution_count": 77,
      "outputs": [
        {
          "output_type": "execute_result",
          "data": {
            "text/plain": [
              "[('d. i khan', 100),\n",
              " ('d.i khan', 100),\n",
              " ('d.g khan', 88),\n",
              " ('khanewal', 50),\n",
              " ('sudhanoti', 47),\n",
              " ('hangu', 46),\n",
              " ('kohat', 46),\n",
              " ('dara adam khel', 45),\n",
              " ('chaman', 43),\n",
              " ('mardan', 43)]"
            ]
          },
          "metadata": {},
          "execution_count": 77
        }
      ]
    },
    {
      "cell_type": "code",
      "source": [
        "def replace_matches_in_column(df, column, string_to_match, min_ratio = 90):\n",
        "    strings = df[column].unique()\n",
        "    matches = fuzzywuzzy.process.extract(string_to_match, strings, limit=10, scorer=fuzzywuzzy.fuzz.token_sort_ratio)\n",
        "    close_matches = [matches[0] for matches in matches if matches[1] >= min_ratio]\n",
        "    rows_with_matches = df[column].isin(close_matches)\n",
        "    df.loc[rows_with_matches, column] = string_to_match\n",
        "    print(\"All done!\")"
      ],
      "metadata": {
        "id": "JQZ6kj0kEG7z"
      },
      "execution_count": 78,
      "outputs": []
    },
    {
      "cell_type": "code",
      "source": [
        "replace_matches_in_column(df=df, column='City', string_to_match=\"d.i khan\")"
      ],
      "metadata": {
        "colab": {
          "base_uri": "https://localhost:8080/"
        },
        "id": "OnnyQCLlEG-J",
        "outputId": "4c14ec5f-9742-4f49-e86d-2f240c1c7267"
      },
      "execution_count": 79,
      "outputs": [
        {
          "output_type": "stream",
          "name": "stdout",
          "text": [
            "All done!\n"
          ]
        }
      ]
    },
    {
      "cell_type": "code",
      "source": [
        "cities = df['City'].unique()\n",
        "cities.sort()\n",
        "cities"
      ],
      "metadata": {
        "colab": {
          "base_uri": "https://localhost:8080/"
        },
        "id": "FLRcgo3bEHCC",
        "outputId": "5f4ec436-92e0-4021-870c-4db238170e51"
      },
      "execution_count": 80,
      "outputs": [
        {
          "output_type": "execute_result",
          "data": {
            "text/plain": [
              "array(['attock', 'bajaur agency', 'bannu', 'bhakkar', 'buner', 'chakwal',\n",
              "       'chaman', 'charsadda', 'd.g khan', 'd.i khan', 'dara adam khel',\n",
              "       'fateh jang', 'ghallanai, mohmand agency', 'gujrat', 'hangu',\n",
              "       'haripur', 'hayatabad', 'islamabad', 'jacobabad', 'karachi',\n",
              "       'karak', 'khanewal', 'khuzdar', 'khyber agency', 'kohat',\n",
              "       'kuram agency', 'kurram agency', 'lahore', 'lakki marwat',\n",
              "       'lasbela', 'lower dir', 'malakand', 'mansehra', 'mardan',\n",
              "       'mohmand agency', 'mosal kor, mohmand agency', 'multan',\n",
              "       'muzaffarabad', 'north waziristan', 'nowshehra', 'orakzai agency',\n",
              "       'peshawar', 'pishin', 'poonch', 'quetta', 'rawalpindi', 'sargodha',\n",
              "       'sehwan town', 'shabqadar-charsadda', 'shangla', 'shikarpur',\n",
              "       'sialkot', 'south waziristan', 'sudhanoti', 'sukkur', 'swabi',\n",
              "       'swat', 'taftan', 'tangi, charsadda district', 'tank', 'taunsa',\n",
              "       'tirah valley', 'totalai', 'upper dir', 'wagah', 'zhob'],\n",
              "      dtype=object)"
            ]
          },
          "metadata": {},
          "execution_count": 80
        }
      ]
    },
    {
      "cell_type": "markdown",
      "source": [
        "Date & Time"
      ],
      "metadata": {
        "id": "dfq3gdfAFtFr"
      }
    },
    {
      "cell_type": "code",
      "source": [
        "from datetime import date"
      ],
      "metadata": {
        "id": "W9tVMKLbF1zp"
      },
      "execution_count": 81,
      "outputs": []
    },
    {
      "cell_type": "code",
      "source": [
        "df['Date'].head()"
      ],
      "metadata": {
        "id": "2BoWwr417aWN",
        "colab": {
          "base_uri": "https://localhost:8080/",
          "height": 241
        },
        "outputId": "4b705f08-0db6-4450-dcc3-ac19262c20db"
      },
      "execution_count": 82,
      "outputs": [
        {
          "output_type": "execute_result",
          "data": {
            "text/plain": [
              "0    November 19-1995\n",
              "1     November 6-2000\n",
              "2          May 8-2002\n",
              "3        June 14-2002\n",
              "4         July 4-2003\n",
              "Name: Date, dtype: object"
            ],
            "text/html": [
              "<div>\n",
              "<style scoped>\n",
              "    .dataframe tbody tr th:only-of-type {\n",
              "        vertical-align: middle;\n",
              "    }\n",
              "\n",
              "    .dataframe tbody tr th {\n",
              "        vertical-align: top;\n",
              "    }\n",
              "\n",
              "    .dataframe thead th {\n",
              "        text-align: right;\n",
              "    }\n",
              "</style>\n",
              "<table border=\"1\" class=\"dataframe\">\n",
              "  <thead>\n",
              "    <tr style=\"text-align: right;\">\n",
              "      <th></th>\n",
              "      <th>Date</th>\n",
              "    </tr>\n",
              "  </thead>\n",
              "  <tbody>\n",
              "    <tr>\n",
              "      <th>0</th>\n",
              "      <td>November 19-1995</td>\n",
              "    </tr>\n",
              "    <tr>\n",
              "      <th>1</th>\n",
              "      <td>November 6-2000</td>\n",
              "    </tr>\n",
              "    <tr>\n",
              "      <th>2</th>\n",
              "      <td>May 8-2002</td>\n",
              "    </tr>\n",
              "    <tr>\n",
              "      <th>3</th>\n",
              "      <td>June 14-2002</td>\n",
              "    </tr>\n",
              "    <tr>\n",
              "      <th>4</th>\n",
              "      <td>July 4-2003</td>\n",
              "    </tr>\n",
              "  </tbody>\n",
              "</table>\n",
              "</div><br><label><b>dtype:</b> object</label>"
            ]
          },
          "metadata": {},
          "execution_count": 82
        }
      ]
    },
    {
      "cell_type": "code",
      "source": [
        "df['Date'].dtype"
      ],
      "metadata": {
        "id": "riqdDAq37ZMb",
        "colab": {
          "base_uri": "https://localhost:8080/"
        },
        "outputId": "2ab7089f-5696-409d-ed45-bfd8d907cd4f"
      },
      "execution_count": 83,
      "outputs": [
        {
          "output_type": "execute_result",
          "data": {
            "text/plain": [
              "dtype('O')"
            ]
          },
          "metadata": {},
          "execution_count": 83
        }
      ]
    },
    {
      "cell_type": "code",
      "source": [
        "df['Date'] = pd.to_datetime(df['Date'], format='%B %d-%Y')"
      ],
      "metadata": {
        "id": "qLv6UfkU6G_r"
      },
      "execution_count": 84,
      "outputs": []
    },
    {
      "cell_type": "code",
      "source": [
        "df['Date'].head()"
      ],
      "metadata": {
        "id": "RQT3aZJu6HCt",
        "colab": {
          "base_uri": "https://localhost:8080/",
          "height": 241
        },
        "outputId": "ed811d8c-8519-49e8-afb2-129b6f8cc819"
      },
      "execution_count": 85,
      "outputs": [
        {
          "output_type": "execute_result",
          "data": {
            "text/plain": [
              "0   1995-11-19\n",
              "1   2000-11-06\n",
              "2   2002-05-08\n",
              "3   2002-06-14\n",
              "4   2003-07-04\n",
              "Name: Date, dtype: datetime64[ns]"
            ],
            "text/html": [
              "<div>\n",
              "<style scoped>\n",
              "    .dataframe tbody tr th:only-of-type {\n",
              "        vertical-align: middle;\n",
              "    }\n",
              "\n",
              "    .dataframe tbody tr th {\n",
              "        vertical-align: top;\n",
              "    }\n",
              "\n",
              "    .dataframe thead th {\n",
              "        text-align: right;\n",
              "    }\n",
              "</style>\n",
              "<table border=\"1\" class=\"dataframe\">\n",
              "  <thead>\n",
              "    <tr style=\"text-align: right;\">\n",
              "      <th></th>\n",
              "      <th>Date</th>\n",
              "    </tr>\n",
              "  </thead>\n",
              "  <tbody>\n",
              "    <tr>\n",
              "      <th>0</th>\n",
              "      <td>1995-11-19</td>\n",
              "    </tr>\n",
              "    <tr>\n",
              "      <th>1</th>\n",
              "      <td>2000-11-06</td>\n",
              "    </tr>\n",
              "    <tr>\n",
              "      <th>2</th>\n",
              "      <td>2002-05-08</td>\n",
              "    </tr>\n",
              "    <tr>\n",
              "      <th>3</th>\n",
              "      <td>2002-06-14</td>\n",
              "    </tr>\n",
              "    <tr>\n",
              "      <th>4</th>\n",
              "      <td>2003-07-04</td>\n",
              "    </tr>\n",
              "  </tbody>\n",
              "</table>\n",
              "</div><br><label><b>dtype:</b> datetime64[ns]</label>"
            ]
          },
          "metadata": {},
          "execution_count": 85
        }
      ]
    },
    {
      "cell_type": "markdown",
      "source": [
        "Duplicates & Fixing Spelling Mistakes"
      ],
      "metadata": {
        "id": "C8YAjBc1Gq_C"
      }
    },
    {
      "cell_type": "code",
      "source": [
        "df.columns"
      ],
      "metadata": {
        "colab": {
          "base_uri": "https://localhost:8080/"
        },
        "id": "rl5pcLg3JRrG",
        "outputId": "df4a1d5b-7922-483e-e32e-c901cf6a7870"
      },
      "execution_count": 86,
      "outputs": [
        {
          "output_type": "execute_result",
          "data": {
            "text/plain": [
              "Index(['Date', 'Islamic Date', 'Blast Day Type', 'Holiday Type', 'Time',\n",
              "       'City', 'Latitude', 'Longitude', 'Province', 'Location',\n",
              "       'Location Category', 'Location Sensitivity', 'Open/Closed Space',\n",
              "       'Influencing Event/Event', 'Target Type', 'Targeted Sect if any',\n",
              "       'Killed Min', 'Killed Max', 'Injured Min', 'Injured Max',\n",
              "       'No. of Suicide Blasts', 'Explosive Weight (max)', 'Hospital Names',\n",
              "       'Temperature(C)', 'Temperature(F)'],\n",
              "      dtype='object')"
            ]
          },
          "metadata": {},
          "execution_count": 86
        }
      ]
    },
    {
      "cell_type": "code",
      "source": [
        "df.Province = df.Province.str.lower()\n",
        "df.Province = df.Province.str.strip()"
      ],
      "metadata": {
        "id": "-HR9GBmzMSzW"
      },
      "execution_count": 89,
      "outputs": []
    },
    {
      "cell_type": "code",
      "source": [
        "df.Province = df.Province.replace('capital', 'punjab')"
      ],
      "metadata": {
        "id": "ry4UaB7PMS4V"
      },
      "execution_count": 93,
      "outputs": []
    },
    {
      "cell_type": "code",
      "source": [
        "df['Province'].unique()"
      ],
      "metadata": {
        "colab": {
          "base_uri": "https://localhost:8080/"
        },
        "id": "PusO9qNjMS6J",
        "outputId": "75d74ba2-6b69-40ee-d234-3d13cf68ddb0"
      },
      "execution_count": 94,
      "outputs": [
        {
          "output_type": "execute_result",
          "data": {
            "text/plain": [
              "array(['punjab', 'sindh', 'baluchistan', 'fata', 'kpk', 'ajk',\n",
              "       'balochistan'], dtype=object)"
            ]
          },
          "metadata": {},
          "execution_count": 94
        }
      ]
    },
    {
      "cell_type": "code",
      "source": [
        "df.Province = df.Province.replace('baluchistan', 'balochistan')"
      ],
      "metadata": {
        "id": "62lHacGlJQz_"
      },
      "execution_count": 95,
      "outputs": []
    },
    {
      "cell_type": "code",
      "source": [
        "df.City = df.City.replace('kuram agency', 'kurram agency')"
      ],
      "metadata": {
        "id": "7k8apIbFN-YI"
      },
      "execution_count": 99,
      "outputs": []
    },
    {
      "cell_type": "code",
      "source": [
        "cities = df.City.unique()\n",
        "cities.sort()\n",
        "cities"
      ],
      "metadata": {
        "colab": {
          "base_uri": "https://localhost:8080/"
        },
        "id": "DcNlqDymN-ak",
        "outputId": "0fec8aeb-03b5-4b54-8590-5489d57c7879"
      },
      "execution_count": 100,
      "outputs": [
        {
          "output_type": "execute_result",
          "data": {
            "text/plain": [
              "array(['attock', 'bajaur agency', 'bannu', 'bhakkar', 'buner', 'chakwal',\n",
              "       'chaman', 'charsadda', 'd.g khan', 'd.i khan', 'dara adam khel',\n",
              "       'fateh jang', 'ghallanai, mohmand agency', 'gujrat', 'hangu',\n",
              "       'haripur', 'hayatabad', 'islamabad', 'jacobabad', 'karachi',\n",
              "       'karak', 'khanewal', 'khuzdar', 'khyber agency', 'kohat',\n",
              "       'kurram agency', 'lahore', 'lakki marwat', 'lasbela', 'lower dir',\n",
              "       'malakand', 'mansehra', 'mardan', 'mohmand agency',\n",
              "       'mosal kor, mohmand agency', 'multan', 'muzaffarabad',\n",
              "       'north waziristan', 'nowshehra', 'orakzai agency', 'peshawar',\n",
              "       'pishin', 'poonch', 'quetta', 'rawalpindi', 'sargodha',\n",
              "       'sehwan town', 'shabqadar-charsadda', 'shangla', 'shikarpur',\n",
              "       'sialkot', 'south waziristan', 'sudhanoti', 'sukkur', 'swabi',\n",
              "       'swat', 'taftan', 'tangi, charsadda district', 'tank', 'taunsa',\n",
              "       'tirah valley', 'totalai', 'upper dir', 'wagah', 'zhob'],\n",
              "      dtype=object)"
            ]
          },
          "metadata": {},
          "execution_count": 100
        }
      ]
    },
    {
      "cell_type": "markdown",
      "source": [
        "Data Visualisation"
      ],
      "metadata": {
        "id": "jhxoVRB8OqR0"
      }
    },
    {
      "cell_type": "code",
      "source": [
        "df.City.value_counts().plot(kind='bar', figsize=(10, 6))\n",
        "plt.title('City')\n",
        "plt.xlabel('City')\n",
        "plt.ylabel('Count')\n",
        "plt.grid(True, ls='--', alpha=0.3)\n",
        "plt.show()"
      ],
      "metadata": {
        "colab": {
          "base_uri": "https://localhost:8080/",
          "height": 752
        },
        "id": "bEEmIBL0Opu_",
        "outputId": "b2b38a9c-58d4-46de-9273-09beb0445b52"
      },
      "execution_count": 110,
      "outputs": [
        {
          "output_type": "display_data",
          "data": {
            "text/plain": [
              "<Figure size 1000x600 with 1 Axes>"
            ],
            "image/png": "[encoded data removed]"
          },
          "metadata": {}
        }
      ]
    },
    {
      "cell_type": "code",
      "source": [
        "df.City.value_counts().head(10).plot(kind='bar', figsize=(10, 6))\n",
        "plt.title('City')\n",
        "plt.xlabel('City')\n",
        "plt.ylabel('Count')\n",
        "plt.grid(True, ls='--', alpha=0.3)\n",
        "plt.show()"
      ],
      "metadata": {
        "colab": {
          "base_uri": "https://localhost:8080/",
          "height": 663
        },
        "id": "T12_e1nqOpxS",
        "outputId": "8635d2fc-ec7e-4125-f010-a951ed6d422a"
      },
      "execution_count": 111,
      "outputs": [
        {
          "output_type": "display_data",
          "data": {
            "text/plain": [
              "<Figure size 1000x600 with 1 Axes>"
            ],
            "image/png": "[encoded data removed]"
          },
          "metadata": {}
        }
      ]
    },
    {
      "cell_type": "code",
      "source": [
        "df.City.value_counts().tail(10).plot(kind='bar', figsize=(10, 6))\n",
        "plt.title('City')\n",
        "plt.xlabel('City')\n",
        "plt.ylabel('Count')\n",
        "plt.grid(True, ls='--', alpha=0.3)\n",
        "plt.show()"
      ],
      "metadata": {
        "colab": {
          "base_uri": "https://localhost:8080/",
          "height": 720
        },
        "id": "jnUavUevOpzn",
        "outputId": "64ca48a1-e853-426a-faf1-85c0480096e6"
      },
      "execution_count": 112,
      "outputs": [
        {
          "output_type": "display_data",
          "data": {
            "text/plain": [
              "<Figure size 1000x600 with 1 Axes>"
            ],
            "image/png": "[encoded data removed]"
          },
          "metadata": {}
        }
      ]
    },
    {
      "cell_type": "code",
      "source": [
        "df.Province.value_counts().plot(kind='bar', figsize=(10, 6))\n",
        "plt.title('Province')\n",
        "plt.xlabel('Province')\n",
        "plt.ylabel('Count')\n",
        "plt.grid(True, ls='--', alpha=0.3)\n",
        "plt.show()"
      ],
      "metadata": {
        "colab": {
          "base_uri": "https://localhost:8080/",
          "height": 630
        },
        "id": "UB9TFnHDOp2a",
        "outputId": "2d59a162-be5b-42a5-9aef-afa58709daa6"
      },
      "execution_count": 113,
      "outputs": [
        {
          "output_type": "display_data",
          "data": {
            "text/plain": [
              "<Figure size 1000x600 with 1 Axes>"
            ],
            "image/png": "[encoded data removed]"
          },
          "metadata": {}
        }
      ]
    }
  ]
}